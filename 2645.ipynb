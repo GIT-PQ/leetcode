{
 "cells": [
  {
   "cell_type": "code",
   "execution_count": 3,
   "id": "7ae45d94-958b-4806-99ec-13211eebceef",
   "metadata": {},
   "outputs": [],
   "source": [
    "class Solution:\n",
    "    def addMinimum(self, word):\n",
    "        index_i = -1;\n",
    "        count = 0; \n",
    "        for i,c in enumerate(word):\n",
    "            if c == 'c':\n",
    "                count = 3 - (i-index_i)\n",
    "                index_i = i\n",
    "        return count"
   ]
  },
  {
   "cell_type": "code",
   "execution_count": 4,
   "id": "30f92f49-fc27-4a0b-92e7-3176aa8154f0",
   "metadata": {},
   "outputs": [
    {
     "data": {
      "text/plain": [
       "0"
      ]
     },
     "execution_count": 4,
     "metadata": {},
     "output_type": "execute_result"
    }
   ],
   "source": [
    "s = \"aaa\"\n",
    "S = Solution()\n",
    "S.addMinimum(s)"
   ]
  }
 ],
 "metadata": {
  "kernelspec": {
   "display_name": "Python 3 (ipykernel)",
   "language": "python",
   "name": "python3"
  },
  "language_info": {
   "codemirror_mode": {
    "name": "ipython",
    "version": 3
   },
   "file_extension": ".py",
   "mimetype": "text/x-python",
   "name": "python",
   "nbconvert_exporter": "python",
   "pygments_lexer": "ipython3",
   "version": "3.11.4"
  }
 },
 "nbformat": 4,
 "nbformat_minor": 5
}
